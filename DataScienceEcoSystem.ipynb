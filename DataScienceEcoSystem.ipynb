{
 "cells": [
  {
   "cell_type": "markdown",
   "id": "8e357987-e0ac-4325-8c6c-f42057b4edb6",
   "metadata": {},
   "source": [
    "# Exercise 2\n",
    "## Notebook Title"
   ]
  },
  {
   "cell_type": "markdown",
   "id": "08131e04-0b24-440c-a50a-2f0e5b9bcaf0",
   "metadata": {},
   "source": [
    "# Exercise 3\n",
    "## Introduction\n",
    "This notebook explores various aspects of data science."
   ]
  },
  {
   "cell_type": "markdown",
   "id": "0e387ed4-7b83-4b6c-82c3-4148ff4059f8",
   "metadata": {
    "jp-MarkdownHeadingCollapsed": true,
    "tags": []
   },
   "source": [
    "# Exercise 4\n",
    "## Data Science Languages\n",
    "- Python\n",
    "- R\n",
    "- Julia"
   ]
  },
  {
   "cell_type": "markdown",
   "id": "bb18f669-9a8b-4fc5-9a5f-c9a326f7c635",
   "metadata": {},
   "source": [
    "# Exercise 5\n",
    "## Data Science Libraries\n",
    "- Pandas\n",
    "- NumPy\n",
    "- Matplotlib"
   ]
  },
  {
   "cell_type": "markdown",
   "id": "3a0e74aa-d6b5-449c-bd37-beaf86d2de37",
   "metadata": {},
   "source": [
    "# Exercise 6\n",
    "## Data Science Tools Table\n",
    "\n",
    "| Tool              | Purpose                       |\n",
    "|-------------------|-------------------------------|\n",
    "| Jupyter Notebook  | Interactive data analysis     |\n",
    "| RStudio           | Integrated development for R   |\n",
    "| TensorFlow        | Machine learning framework    |\n",
    "| scikit-learn      | Machine learning in Python    |\n",
    "| Tableau           | Data visualization           |"
   ]
  },
  {
   "cell_type": "markdown",
   "id": "a3fcb481-ffaa-46f8-81a2-3a8aa4e97d15",
   "metadata": {},
   "source": [
    "# Exercise 7\n",
    "## Arithmetic Expression Examples"
   ]
  },
  {
   "cell_type": "markdown",
   "id": "1616ebae-9c92-4289-a91b-cbe9e31493ce",
   "metadata": {},
   "source": [
    "# Exercise 8\n",
    "# Multiply and add numbers\n"
   ]
  },
  {
   "cell_type": "code",
   "execution_count": 1,
   "id": "a5984212-c377-4ecd-b827-24b4829175ff",
   "metadata": {
    "tags": []
   },
   "outputs": [
    {
     "name": "stdout",
     "output_type": "stream",
     "text": [
      "25\n"
     ]
    }
   ],
   "source": [
    "result = 5 * 3 + 10\n",
    "print(result)"
   ]
  },
  {
   "cell_type": "markdown",
   "id": "23584ad7-31bf-4030-8da2-6b1b63ef892c",
   "metadata": {},
   "source": [
    "# Exercise 9\n",
    "# Convert minutes to hours\n"
   ]
  },
  {
   "cell_type": "code",
   "execution_count": 2,
   "id": "0ade330a-6cdc-4f22-b8cc-9fe9439c1c10",
   "metadata": {
    "tags": []
   },
   "outputs": [
    {
     "name": "stdout",
     "output_type": "stream",
     "text": [
      "2.0\n"
     ]
    }
   ],
   "source": [
    "minutes = 120\n",
    "hours = minutes / 60\n",
    "print(hours)"
   ]
  },
  {
   "cell_type": "markdown",
   "id": "85b84308-442b-45b6-8659-d37f41aee422",
   "metadata": {},
   "source": [
    "# Exercise 10\n",
    "## Objectives\n",
    "1. Explore data science languages.\n",
    "2. Understand popular data science libraries.\n",
    "3. Work with arithmetic expressions in Python"
   ]
  },
  {
   "cell_type": "markdown",
   "id": "dc3c1aff-5c61-4185-a9fe-666466a0426e",
   "metadata": {},
   "source": [
    "# Exercise 11\n",
    "## Author\n",
    "Priyanka Konwar"
   ]
  },
  {
   "cell_type": "markdown",
   "id": "a43ec771-3c26-4120-8575-58fd7db9241c",
   "metadata": {
    "jp-MarkdownHeadingCollapsed": true,
    "tags": []
   },
   "source": [
    "# Exercise 12\n",
    "## Sharing the Notebook through GitHub\n",
    "1. Create a new repository on GitHub.\n",
    "2. Push your Jupyter Notebook to the repository.\n",
    "3. Share the repository link."
   ]
  },
  {
   "cell_type": "code",
   "execution_count": null,
   "id": "cf61b133-25a0-4ce3-876f-804ba53f6009",
   "metadata": {},
   "outputs": [],
   "source": []
  }
 ],
 "metadata": {
  "kernelspec": {
   "display_name": "Python",
   "language": "python",
   "name": "conda-env-python-py"
  },
  "language_info": {
   "codemirror_mode": {
    "name": "ipython",
    "version": 3
   },
   "file_extension": ".py",
   "mimetype": "text/x-python",
   "name": "python",
   "nbconvert_exporter": "python",
   "pygments_lexer": "ipython3",
   "version": "3.7.12"
  }
 },
 "nbformat": 4,
 "nbformat_minor": 5
}
